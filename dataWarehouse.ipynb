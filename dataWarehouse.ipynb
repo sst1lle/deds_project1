{
 "cells": [
  {
   "cell_type": "code",
   "execution_count": null,
   "metadata": {},
   "outputs": [],
   "source": [
    "import pandas as pd\n",
    "import sqlite3\n",
    "import warnings\n",
    "import pyodbc\n",
    "import numpy as np\n",
    "import os\n",
    "\n",
    "warnings.simplefilter('ignore')\n",
    "print(pyodbc.drivers())"
   ]
  },
  {
   "cell_type": "markdown",
   "metadata": {},
   "source": [
    "<h3> verbinding maken met SourceDataModel, en inlezen tabellen"
   ]
  },
  {
   "cell_type": "code",
   "execution_count": null,
   "metadata": {},
   "outputs": [],
   "source": [
    "# Verbindingsgegevens\n",
    "server = '127.0.0.1'        \n",
    "port = '1433'               \n",
    "database = 'SDMProject'         \n",
    "username = 'SA'             \n",
    "password = 'iDTyjZx7dRL4'  \n",
    "\n",
    "# Connection string\n",
    "connection_string = (\n",
    "    f\"DRIVER={{ODBC Driver 17 for SQL Server}};\"\n",
    "    f\"SERVER={server},{port};\"\n",
    "    f\"DATABASE={database};\"\n",
    "    f\"UID={username};\"\n",
    "    f\"PWD={password};\"\n",
    "    \"TrustServerCertificate=yes;\"\n",
    "    \"Timeout=30;\"\n",
    ")\n",
    "\n",
    "# Maak verbinding met de database\n",
    "conn = pyodbc.connect(connection_string)\n",
    "cursor = conn.cursor()\n",
    "\n",
    "# Haal alle tabellen op\n",
    "cursor.execute(\"SELECT TABLE_NAME FROM INFORMATION_SCHEMA.TABLES WHERE TABLE_TYPE = 'BASE TABLE'\")\n",
    "tables = [row.TABLE_NAME for row in cursor.fetchall()]\n",
    "\n",
    "# Dictionary om alle dataframes op te slaan\n",
    "sdm_dfs = {}\n",
    "\n",
    "# Loop door alle tabellen en laad ze in Pandas DataFrames\n",
    "for table in tables:\n",
    "    query = f\"SELECT * FROM [{table}]\"\n",
    "    df = pd.read_sql(query, conn)\n",
    "    sdm_dfs[table] = df\n",
    "    print(f\"Tabel '{table}' ingelezen met {df.shape[0]} rijen en {df.shape[1]} kolommen.\")\n",
    "\n",
    "# Sluit de verbinding\n",
    "conn.close()\n",
    "\n",
    "# Print de kolomnamen en de eerste paar rijen van elke DataFrame\n",
    "for table_name, df in sdm_dfs.items():\n",
    "    print(f\"\\nTable: {table_name}\")\n",
    "    print(\"Columns:\", df.columns.tolist())\n",
    "    print(df.head())\n",
    "    \n",
    "\n",
    "\n"
   ]
  },
  {
   "cell_type": "markdown",
   "metadata": {},
   "source": [
    "<h3> dictionary maken voor goede dataframes"
   ]
  },
  {
   "cell_type": "code",
   "execution_count": 3,
   "metadata": {},
   "outputs": [],
   "source": [
    "DataWarehouse_dict = {\n",
    "}"
   ]
  },
  {
   "cell_type": "markdown",
   "metadata": {},
   "source": [
    "<h3> HumanRescources_department"
   ]
  },
  {
   "cell_type": "code",
   "execution_count": null,
   "metadata": {},
   "outputs": [],
   "source": [
    "df_HumanRescources_Department = sdm_dfs['HumanResources_Department'].copy()\n",
    "\n",
    "df_HumanRescources_Department.drop(columns=['ModifiedDate'], inplace=True)\n",
    "\n",
    "DataWarehouse_dict['HumanResources_Department'] = df_HumanRescources_Department\n",
    "\n",
    "df_HumanRescources_Department.head()\n"
   ]
  },
  {
   "cell_type": "markdown",
   "metadata": {},
   "source": [
    "<h3> Person_Person"
   ]
  },
  {
   "cell_type": "code",
   "execution_count": null,
   "metadata": {},
   "outputs": [],
   "source": [
    "# Kopieer de SDM-tabel\n",
    "df_Person_Person = sdm_dfs['Person_Person'].copy()\n",
    "\n",
    "# Drop eerst de originele BusinessEntityID\n",
    "df_Person_Person = df_Person_Person.drop(columns=[\"BusinessEntityID\"])\n",
    "\n",
    "# Hernoem MergedBusinessEntityID naar BusinessEntityID\n",
    "df_Person_Person = df_Person_Person.rename(columns={\n",
    "    \"MergedBusinessEntityID\": \"BusinessEntityID\"\n",
    "})\n",
    "\n",
    "# Selecteer alleen de kolommen die je nodig hebt\n",
    "df_dwh_person = df_Person_Person[[\"BusinessEntityID\", \"Title\", \"LastName\", \"Source\"]].copy()\n",
    "\n",
    "# Truncate strings naar max lengte\n",
    "df_dwh_person[\"Title\"] = df_dwh_person[\"Title\"].astype(str).str.slice(0, 50)\n",
    "df_dwh_person[\"LastName\"] = df_dwh_person[\"LastName\"].astype(str).str.slice(0, 255)\n",
    "df_dwh_person[\"Source\"] = df_dwh_person[\"Source\"].astype(str).str.slice(0, 50)\n",
    "\n",
    "DataWarehouse_dict['Person_Person'] = df_dwh_person\n",
    "\n",
    "# Preview\n",
    "print(df_dwh_person.head())\n",
    "\n"
   ]
  },
  {
   "cell_type": "markdown",
   "metadata": {},
   "source": [
    "<h3> HumanResources_Employee"
   ]
  },
  {
   "cell_type": "code",
   "execution_count": null,
   "metadata": {},
   "outputs": [],
   "source": [
    "# Kopieer de SDM-tabel\n",
    "df_HumanResources_Employee = sdm_dfs['HumanResources_Employee'].copy()\n",
    "\n",
    "# Drop eerst de originele BusinessEntityID\n",
    "df_HumanResources_Employee = df_HumanResources_Employee.drop(columns=[\"BusinessEntityID\"])\n",
    "\n",
    "# Hernoem MergedBusinessEntityID naar BusinessEntityID\n",
    "df_HumanResources_Employee = df_HumanResources_Employee.rename(columns={\n",
    "    \"MergedBusinessEntityID\": \"BusinessEntityID\"\n",
    "})\n",
    "\n",
    "# Selecteer alleen de kolommen die je nodig hebt\n",
    "df_dwh_employee = df_HumanResources_Employee[[\"BusinessEntityID\", \"JobTitle\", \"Salary\", \"DepartmentID\", \"ManagerID\", \"Source\"]].copy()\n",
    "\n",
    "# Truncate strings naar max lengte\n",
    "df_dwh_employee[\"JobTitle\"] = df_dwh_employee[\"JobTitle\"].astype(str).str.slice(0, 100)\n",
    "df_dwh_employee[\"Source\"] = df_dwh_employee[\"Source\"].astype(str).str.slice(0, 50)\n",
    "\n",
    "# Opslaan in het DataWarehouse\n",
    "DataWarehouse_dict['HumanResources_Employee'] = df_dwh_employee\n",
    "\n",
    "# Preview\n",
    "print(df_dwh_employee.head())\n"
   ]
  },
  {
   "cell_type": "markdown",
   "metadata": {},
   "source": [
    "<h3> Person_Address"
   ]
  },
  {
   "cell_type": "code",
   "execution_count": null,
   "metadata": {},
   "outputs": [],
   "source": [
    "# Kopieer de SDM-tabel\n",
    "df_Person_Address = sdm_dfs['Person_Address'].copy()\n",
    "\n",
    "# Selecteer alleen de kolommen die je nodig hebt\n",
    "df_dwh_address = df_Person_Address[[\"AddressID\", \"City\", \"BusinessEntityID\"]].copy()\n",
    "\n",
    "# Truncate strings naar maximale lengte\n",
    "df_dwh_address[\"City\"] = df_dwh_address[\"City\"].astype(str).str.slice(0, 100)\n",
    "\n",
    "# Opslaan in het DataWarehouse\n",
    "DataWarehouse_dict['Person_Address'] = df_dwh_address\n",
    "\n",
    "# Preview\n",
    "print(df_dwh_address.head())"
   ]
  },
  {
   "cell_type": "markdown",
   "metadata": {},
   "source": [
    "<h3> Production_ProductCategory"
   ]
  },
  {
   "cell_type": "code",
   "execution_count": null,
   "metadata": {},
   "outputs": [],
   "source": [
    "# Kopieer de SDM-tabel\n",
    "df_Production_ProductCategory = sdm_dfs['Production_ProductCategory'].copy()\n",
    "\n",
    "# Drop eerst de originele ProductCategoryID\n",
    "df_Production_ProductCategory = df_Production_ProductCategory.drop(columns=[\"ProductCategoryID\"])\n",
    "\n",
    "# Hernoem MergedCategoryID naar ProductCategoryID\n",
    "df_Production_ProductCategory = df_Production_ProductCategory.rename(columns={\n",
    "    \"MergedCategoryID\": \"ProductCategoryID\"\n",
    "})\n",
    "\n",
    "# Selecteer alleen de kolommen die je nodig hebt\n",
    "df_dwh_product_category = df_Production_ProductCategory[[\"ProductCategoryID\", \"Name\", \"Source\"]].copy()\n",
    "\n",
    "# Truncate strings naar maximale lengte\n",
    "df_dwh_product_category[\"Name\"] = df_dwh_product_category[\"Name\"].astype(str).str.slice(0, 100)\n",
    "df_dwh_product_category[\"Source\"] = df_dwh_product_category[\"Source\"].astype(str).str.slice(0, 50)\n",
    "\n",
    "# Opslaan in het DataWarehouse\n",
    "DataWarehouse_dict['Production_ProductCategory'] = df_dwh_product_category\n",
    "\n",
    "# Preview\n",
    "print(df_dwh_product_category.head())"
   ]
  },
  {
   "cell_type": "markdown",
   "metadata": {},
   "source": [
    "<h3> Shippers"
   ]
  },
  {
   "cell_type": "code",
   "execution_count": null,
   "metadata": {},
   "outputs": [],
   "source": [
    "# Kopieer de SDM-tabel\n",
    "df_Shippers = sdm_dfs['Shippers'].copy()\n",
    "\n",
    "# Selecteer alleen de kolommen die je nodig hebt\n",
    "df_dwh_shippers = df_Shippers[[\"ShipperID\", \"CompanyName\"]].copy()\n",
    "\n",
    "# Truncate strings naar maximale lengte\n",
    "df_dwh_shippers[\"CompanyName\"] = df_dwh_shippers[\"CompanyName\"].astype(str).str.slice(0, 100)\n",
    "\n",
    "# Opslaan in het DataWarehouse\n",
    "DataWarehouse_dict['Shippers'] = df_dwh_shippers\n",
    "\n",
    "# Preview\n",
    "print(df_dwh_shippers.head())"
   ]
  },
  {
   "cell_type": "markdown",
   "metadata": {},
   "source": [
    "<h3> Suppliers"
   ]
  },
  {
   "cell_type": "code",
   "execution_count": null,
   "metadata": {},
   "outputs": [],
   "source": [
    "# Kopieer de SDM-tabel\n",
    "df_Suppliers = sdm_dfs['Suppliers'].copy()\n",
    "\n",
    "# Selecteer alleen de kolommen die je nodig hebt\n",
    "df_dwh_suppliers = df_Suppliers[[\"SupplierID\", \"CompanyName\", \"City\", \"Country\", \"Region\"]].copy()\n",
    "\n",
    "# Truncate strings naar maximale lengte\n",
    "df_dwh_suppliers[\"CompanyName\"] = df_dwh_suppliers[\"CompanyName\"].astype(str).str.slice(0, 100)\n",
    "df_dwh_suppliers[\"City\"] = df_dwh_suppliers[\"City\"].astype(str).str.slice(0, 100)\n",
    "df_dwh_suppliers[\"Country\"] = df_dwh_suppliers[\"Country\"].astype(str).str.slice(0, 100)\n",
    "df_dwh_suppliers[\"Region\"] = df_dwh_suppliers[\"Region\"].astype(str).str.slice(0, 100)\n",
    "\n",
    "# Opslaan in het DataWarehouse\n",
    "DataWarehouse_dict['Suppliers'] = df_dwh_suppliers\n",
    "\n",
    "# Preview\n",
    "print(df_dwh_suppliers.head())"
   ]
  },
  {
   "cell_type": "markdown",
   "metadata": {},
   "source": [
    "<h3>Production_Product"
   ]
  },
  {
   "cell_type": "code",
   "execution_count": null,
   "metadata": {},
   "outputs": [],
   "source": [
    "# Kopieer de SDM-tabel\n",
    "df_Production_Product = sdm_dfs['Production_Product'].copy()\n",
    "\n",
    "# Drop de originele ProductID\n",
    "df_Production_Product = df_Production_Product.drop(columns=[\"ProductID\"])\n",
    "\n",
    "# Hernoem MergedID naar ProductID\n",
    "df_Production_Product = df_Production_Product.rename(columns={\n",
    "    \"MergedID\": \"ProductID\"\n",
    "})\n",
    "\n",
    "# Selecteer alleen de kolommen die je nodig hebt\n",
    "df_dwh_product = df_Production_Product[[\n",
    "    \"ProductID\", \"Name\", \"StandardCost\", \"ProductCategoryID\", \"QuantityPerUnit\",\n",
    "    \"DaysToManufacture\", \"ProductLine\", \"ListPrice\", \"UnitsInStock\", \"UnitsOnOrder\",\n",
    "    \"SellStartDate\", \"SellEndDate\",  \"SupplierID\"\n",
    "]].copy()\n",
    "\n",
    "# Truncate strings naar maximale lengte\n",
    "df_dwh_product[\"Name\"] = df_dwh_product[\"Name\"].astype(str).str.slice(0, 100)\n",
    "df_dwh_product[\"QuantityPerUnit\"] = df_dwh_product[\"QuantityPerUnit\"].astype(str).str.slice(0, 50)\n",
    "df_dwh_product[\"ProductLine\"] = df_dwh_product[\"ProductLine\"].astype(str).str.slice(0, 30)\n",
    "\n",
    "# Converteer kolommen naar het juiste datatyp\n",
    "df_dwh_product[\"StandardCost\"] = pd.to_numeric(df_dwh_product[\"StandardCost\"], errors='coerce')\n",
    "df_dwh_product[\"ListPrice\"] = pd.to_numeric(df_dwh_product[\"ListPrice\"], errors='coerce')\n",
    "df_dwh_product[\"UnitsInStock\"] = pd.to_numeric(df_dwh_product[\"UnitsInStock\"], errors='coerce')\n",
    "df_dwh_product[\"UnitsOnOrder\"] = pd.to_numeric(df_dwh_product[\"UnitsOnOrder\"], errors='coerce')\n",
    "df_dwh_product[\"DaysToManufacture\"] = pd.to_numeric(df_dwh_product[\"DaysToManufacture\"], errors='coerce')\n",
    "df_dwh_product[\"SellStartDate\"] = pd.to_datetime(df_dwh_product[\"SellStartDate\"], errors='coerce')\n",
    "df_dwh_product[\"SellEndDate\"] = pd.to_datetime(df_dwh_product[\"SellEndDate\"], errors='coerce')\n",
    "\n",
    "# Opslaan in het DataWarehouse\n",
    "DataWarehouse_dict['Production_Product'] = df_dwh_product\n",
    "\n",
    "# Preview\n",
    "print(df_dwh_product.head())\n"
   ]
  },
  {
   "cell_type": "markdown",
   "metadata": {},
   "source": [
    "<h3> Purchasing_Vendor"
   ]
  },
  {
   "cell_type": "code",
   "execution_count": null,
   "metadata": {},
   "outputs": [],
   "source": [
    "# Kopieer de SDM-tabel\n",
    "df_Purchasing_Vendor = sdm_dfs['Purchasing_Vendor'].copy()\n",
    "\n",
    "# Selecteer alleen de kolommen die je nodig hebt\n",
    "df_dwh_vendor = df_Purchasing_Vendor[[\"BusinessEntityID\", \"Name\"]].copy()\n",
    "\n",
    "# Truncate strings naar maximale lengte\n",
    "df_dwh_vendor[\"Name\"] = df_dwh_vendor[\"Name\"].astype(str).str.slice(0, 255)\n",
    "\n",
    "# Opslaan in het DataWarehouse\n",
    "DataWarehouse_dict['Purchasing_Vendor'] = df_dwh_vendor\n",
    "\n",
    "# Preview\n",
    "print(df_dwh_vendor.head())"
   ]
  },
  {
   "cell_type": "markdown",
   "metadata": {},
   "source": [
    "<h3> Fact_Purchase_Order"
   ]
  },
  {
   "cell_type": "code",
   "execution_count": null,
   "metadata": {},
   "outputs": [],
   "source": [
    "# Kopieer de SDM-tabellen\n",
    "df_PurchaseOrderHeader = sdm_dfs['Purchasing_PurchaseOrderHeader'].copy()\n",
    "df_PurchaseOrderDetail = sdm_dfs['Purchasing_PurchaseOrderDetail'].copy()\n",
    "\n",
    "# Merge de twee tabellen op PurchaseOrderID\n",
    "df_fact_purchase_order = pd.merge(\n",
    "    df_PurchaseOrderHeader,\n",
    "    df_PurchaseOrderDetail,\n",
    "    on=\"PurchaseOrderID\",\n",
    "    how=\"inner\"\n",
    ")\n",
    "\n",
    "# Selecteer en hernoem de relevante kolommen\n",
    "df_fact_purchase_order = df_fact_purchase_order[[\n",
    "    \"PurchaseOrderID\",\n",
    "    \"PurchaseOrderDetailID\",\n",
    "    \"OrderDate\",  # Hernoemen naar PurchaseDate\n",
    "    \"ShipDate\",\n",
    "    \"EmployeeID\",\n",
    "    \"ProductID\",\n",
    "    \"VendorID\",\n",
    "    \"OrderQty\",\n",
    "    \"UnitPrice\",\n",
    "    \"ReceivedQty\",\n",
    "    \"RejectedQty\",\n",
    "    \"StockedQty\",\n",
    "    \"SubTotal\",\n",
    "    \"TotalDue\",\n",
    "    \"Source\"\n",
    "]].rename(columns={\n",
    "    \"OrderDate\": \"PurchaseDate\"\n",
    "})\n",
    "\n",
    "# Converteer kolommen naar het juiste datatype\n",
    "df_fact_purchase_order[\"PurchaseDate\"] = pd.to_datetime(df_fact_purchase_order[\"PurchaseDate\"], errors=\"coerce\")\n",
    "df_fact_purchase_order[\"ShipDate\"] = pd.to_datetime(df_fact_purchase_order[\"ShipDate\"], errors=\"coerce\")\n",
    "df_fact_purchase_order[\"OrderQty\"] = pd.to_numeric(df_fact_purchase_order[\"OrderQty\"], errors=\"coerce\")\n",
    "df_fact_purchase_order[\"UnitPrice\"] = pd.to_numeric(df_fact_purchase_order[\"UnitPrice\"], errors=\"coerce\")\n",
    "df_fact_purchase_order[\"ReceivedQty\"] = pd.to_numeric(df_fact_purchase_order[\"ReceivedQty\"], errors=\"coerce\")\n",
    "df_fact_purchase_order[\"RejectedQty\"] = pd.to_numeric(df_fact_purchase_order[\"RejectedQty\"], errors=\"coerce\")\n",
    "df_fact_purchase_order[\"StockedQty\"] = pd.to_numeric(df_fact_purchase_order[\"StockedQty\"], errors=\"coerce\")\n",
    "df_fact_purchase_order[\"SubTotal\"] = pd.to_numeric(df_fact_purchase_order[\"SubTotal\"], errors=\"coerce\")\n",
    "df_fact_purchase_order[\"TotalDue\"] = pd.to_numeric(df_fact_purchase_order[\"TotalDue\"], errors=\"coerce\")\n",
    "\n",
    "# Opslaan in het DataWarehouse\n",
    "DataWarehouse_dict['Fact_Purchase_Order'] = df_fact_purchase_order\n",
    "\n",
    "# Preview\n",
    "print(df_fact_purchase_order.head())\n"
   ]
  },
  {
   "cell_type": "markdown",
   "metadata": {},
   "source": [
    "<h3> Sales_SalesTerritory"
   ]
  },
  {
   "cell_type": "code",
   "execution_count": null,
   "metadata": {},
   "outputs": [],
   "source": [
    "# Kopieer de SDM-tabel\n",
    "df_Sales_SalesTerritory = sdm_dfs['Sales_SalesTerritory'].copy()\n",
    "\n",
    "# Selecteer alleen de kolommen die je nodig hebt\n",
    "df_dwh_sales_territory = df_Sales_SalesTerritory[[\n",
    "    \"TerritoryID\", \"Name\", \"region\", \"Group1\", \"SalesYTD\", \"SalesLastYear\"\n",
    "]].copy()\n",
    "\n",
    "# Hernoem 'region' naar 'Region' om consistent te zijn met de SQL-tabel\n",
    "df_dwh_sales_territory = df_dwh_sales_territory.rename(columns={\"region\": \"Region\"})\n",
    "\n",
    "# Truncate strings naar maximale lengte\n",
    "df_dwh_sales_territory[\"Name\"] = df_dwh_sales_territory[\"Name\"].astype(str).str.slice(0, 100)\n",
    "df_dwh_sales_territory[\"Region\"] = df_dwh_sales_territory[\"Region\"].astype(str).str.slice(0, 100)\n",
    "df_dwh_sales_territory[\"Group1\"] = df_dwh_sales_territory[\"Group1\"].astype(str).str.slice(0, 100)\n",
    "\n",
    "# Converteer numerieke kolommen naar het juiste datatype\n",
    "df_dwh_sales_territory[\"SalesYTD\"] = pd.to_numeric(df_dwh_sales_territory[\"SalesYTD\"], errors=\"coerce\")\n",
    "df_dwh_sales_territory[\"SalesLastYear\"] = pd.to_numeric(df_dwh_sales_territory[\"SalesLastYear\"], errors=\"coerce\")\n",
    "\n",
    "# Opslaan in het DataWarehouse\n",
    "DataWarehouse_dict['Sales_SalesTerritory'] = df_dwh_sales_territory\n",
    "\n",
    "# Preview\n",
    "print(df_dwh_sales_territory.head())"
   ]
  },
  {
   "cell_type": "markdown",
   "metadata": {},
   "source": [
    "<h3> Sales_Store"
   ]
  },
  {
   "cell_type": "code",
   "execution_count": null,
   "metadata": {},
   "outputs": [],
   "source": [
    "# Kopieer de SDM-tabel\n",
    "df_Sales_Store = sdm_dfs['Sales_Store'].copy()\n",
    "\n",
    "# Selecteer alleen de kolommen die je nodig hebt\n",
    "df_dwh_sales_store = df_Sales_Store[[\"BusinessEntityID\", \"Name\", \"SalesPersonID\"]].copy()\n",
    "\n",
    "# Truncate strings naar maximale lengte\n",
    "df_dwh_sales_store[\"Name\"] = df_dwh_sales_store[\"Name\"].astype(str).str.slice(0, 255)\n",
    "\n",
    "# Opslaan in het DataWarehouse\n",
    "DataWarehouse_dict['Sales_Store'] = df_dwh_sales_store\n",
    "\n",
    "# Preview\n",
    "print(df_dwh_sales_store.head())"
   ]
  },
  {
   "cell_type": "markdown",
   "metadata": {},
   "source": [
    "<h3> Sales_Customer"
   ]
  },
  {
   "cell_type": "code",
   "execution_count": null,
   "metadata": {},
   "outputs": [],
   "source": [
    "# Kopieer de SDM-tabel\n",
    "df_Sales_Customer = sdm_dfs['Sales_Customer'].copy()\n",
    "\n",
    "# Selecteer alleen de kolommen die je nodig hebt\n",
    "df_dwh_sales_customer = df_Sales_Customer[[\n",
    "    \"MergedCustomerID\", \"PersonID\", \"TerritoryID\", \"CompanyName\", \"AccountNumber\", \"Source\"\n",
    "]].copy()\n",
    "\n",
    "df_dwh_sales_customer = df_dwh_sales_customer.rename(columns={\"PersonID\": \"SalesPersonID\"})\n",
    "df_dwh_sales_customer = df_dwh_sales_customer.rename(columns={\"MergedCustomerID\": \"CustomerID\"})\n",
    "\n",
    "\n",
    "# Truncate strings naar maximale lengte\n",
    "df_dwh_sales_customer[\"CompanyName\"] = df_dwh_sales_customer[\"CompanyName\"].astype(str).str.slice(0, 255)\n",
    "df_dwh_sales_customer[\"AccountNumber\"] = df_dwh_sales_customer[\"AccountNumber\"].astype(str).str.slice(0, 50)\n",
    "df_dwh_sales_customer[\"Source\"] = df_dwh_sales_customer[\"Source\"].astype(str).str.slice(0, 50)\n",
    "\n",
    "# Opslaan in het DataWarehouse\n",
    "DataWarehouse_dict['Sales_Customer'] = df_dwh_sales_customer\n",
    "\n",
    "# Preview\n",
    "print(df_dwh_sales_customer.head())\n"
   ]
  },
  {
   "cell_type": "markdown",
   "metadata": {},
   "source": [
    "<h3> Fact_Sales_Order"
   ]
  },
  {
   "cell_type": "code",
   "execution_count": null,
   "metadata": {},
   "outputs": [],
   "source": [
    "# Kopieer de SDM-tabellen\n",
    "df_SalesOrderHeader = sdm_dfs['Sales_SalesOrderHeader'].copy()\n",
    "df_SalesOrderDetail = sdm_dfs['Sales_SalesOrderDetail'].copy()\n",
    "\n",
    "# Merge de twee tabellen op SalesOrderID\n",
    "df_fact_sales_order = pd.merge(\n",
    "    df_SalesOrderHeader,\n",
    "    df_SalesOrderDetail,\n",
    "    on=\"SalesOrderID\",\n",
    "    how=\"inner\",\n",
    "    suffixes=('_header', '_detail')  # Voorkom conflicten door suffixes toe te voegen\n",
    ")\n",
    "\n",
    "# Controleer welke kolommen aanwezig zijn na de merge\n",
    "print(\"Kolommen na merge:\", df_fact_sales_order.columns)\n",
    "\n",
    "# Selecteer en hernoem de relevante kolommen\n",
    "df_fact_sales_order = df_fact_sales_order[[\n",
    "    \"SalesOrderID\",\n",
    "    \"SalesOrderDetailID\",\n",
    "    \"OrderQty\",\n",
    "    \"OrderDate\",\n",
    "    \"ProductID\",\n",
    "    \"CustomerID\",\n",
    "    \"UnitPrice\",\n",
    "    \"UnitPriceDiscount\",\n",
    "    \"LineTotal\",\n",
    "    \"SalesPersonID\",\n",
    "    \"SubTotal\",\n",
    "    \"ShipVia\",\n",
    "    \"Source_header\"  # Gebruik de juiste kolomnaam na de merge\n",
    "]].rename(columns={\n",
    "    \"Source_header\": \"Source\"  # Hernoem de kolom naar 'Source'\n",
    "})\n",
    "\n",
    "# Voeg een nieuwe kolom toe voor LineTotalDiscounted\n",
    "df_fact_sales_order[\"LineTotalDiscounted\"] = (\n",
    "    pd.to_numeric(df_fact_sales_order[\"LineTotal\"], errors=\"coerce\") -\n",
    "    (pd.to_numeric(df_fact_sales_order[\"UnitPriceDiscount\"], errors=\"coerce\") * pd.to_numeric(df_fact_sales_order[\"OrderQty\"], errors=\"coerce\"))\n",
    ")\n",
    "\n",
    "# Converteer kolommen naar het juiste datatype\n",
    "df_fact_sales_order[\"OrderDate\"] = pd.to_datetime(df_fact_sales_order[\"OrderDate\"], errors=\"coerce\")\n",
    "df_fact_sales_order[\"OrderQty\"] = pd.to_numeric(df_fact_sales_order[\"OrderQty\"], errors=\"coerce\")\n",
    "df_fact_sales_order[\"UnitPrice\"] = pd.to_numeric(df_fact_sales_order[\"UnitPrice\"], errors=\"coerce\")\n",
    "df_fact_sales_order[\"UnitPriceDiscount\"] = pd.to_numeric(df_fact_sales_order[\"UnitPriceDiscount\"], errors=\"coerce\")\n",
    "df_fact_sales_order[\"LineTotal\"] = pd.to_numeric(df_fact_sales_order[\"LineTotal\"], errors=\"coerce\")\n",
    "df_fact_sales_order[\"SubTotal\"] = pd.to_numeric(df_fact_sales_order[\"SubTotal\"], errors=\"coerce\")\n",
    "df_fact_sales_order[\"ShipVia\"] = pd.to_numeric(df_fact_sales_order[\"ShipVia\"], errors=\"coerce\")\n",
    "\n",
    "# Opslaan in het DataWarehouse\n",
    "DataWarehouse_dict['Fact_Sales_Order'] = df_fact_sales_order\n",
    "\n",
    "# Preview\n",
    "print(df_fact_sales_order.head())"
   ]
  },
  {
   "cell_type": "markdown",
   "metadata": {},
   "source": [
    "<h3> Region + territories + employeeterritories"
   ]
  },
  {
   "cell_type": "code",
   "execution_count": null,
   "metadata": {},
   "outputs": [],
   "source": [
    "df_dwh_region = sdm_dfs['Region'].copy()\n",
    "\n",
    "DataWarehouse_dict['Region'] = df_dwh_region\n",
    "\n",
    "# Preview\n",
    "print(df_dwh_region.head())"
   ]
  },
  {
   "cell_type": "code",
   "execution_count": null,
   "metadata": {},
   "outputs": [],
   "source": [
    "df_dwh_territories = sdm_dfs['Territories'].copy()\n",
    "DataWarehouse_dict['Territories'] = df_dwh_territories\n",
    "# Preview\n",
    "print(df_dwh_territories.head())"
   ]
  },
  {
   "cell_type": "code",
   "execution_count": null,
   "metadata": {},
   "outputs": [],
   "source": [
    "df_dwh_employeeterritories = sdm_dfs['EmployeeTerritories'].copy()\n",
    "DataWarehouse_dict['EmployeeTerritories'] = df_dwh_employeeterritories\n",
    "# Preview\n",
    "print(df_dwh_employeeterritories.head())"
   ]
  },
  {
   "cell_type": "markdown",
   "metadata": {},
   "source": [
    "<h3> Bonus"
   ]
  },
  {
   "cell_type": "code",
   "execution_count": null,
   "metadata": {},
   "outputs": [],
   "source": [
    "df_dwh_Bonus = sdm_dfs['Bonus'].copy()\n",
    "DataWarehouse_dict['Bonus'] = df_dwh_Bonus\n",
    "# Preview   \n",
    "print(df_dwh_Bonus.head())"
   ]
  },
  {
   "cell_type": "markdown",
   "metadata": {},
   "source": [
    "<h3> Vullen Datawarehouse"
   ]
  },
  {
   "cell_type": "code",
   "execution_count": null,
   "metadata": {},
   "outputs": [],
   "source": [
    "for tabel in DataWarehouse_dict:\n",
    "    print(f\"{tabel}: {DataWarehouse_dict[tabel].shape}\")"
   ]
  },
  {
   "cell_type": "code",
   "execution_count": 23,
   "metadata": {},
   "outputs": [],
   "source": [
    "# Verbindingsgegevens\n",
    "server = '127.0.0.1'        \n",
    "port = '1433'               \n",
    "database3 = 'ProjectDataWarehouse'         \n",
    "username = 'SA'             \n",
    "password = 'iDTyjZx7dRL4'  \n",
    "\n",
    "# Connection string\n",
    "connection_string3 = (\n",
    "    f\"DRIVER={{ODBC Driver 17 for SQL Server}};\"\n",
    "    f\"SERVER={server},{port};\"\n",
    "    f\"DATABASE={database3};\"\n",
    "    f\"UID={username};\"\n",
    "    f\"PWD={password};\"\n",
    "    \"TrustServerCertificate=yes;\"\n",
    "    \"Timeout=30;\"\n",
    ")\n",
    "\n",
    "# Maak verbinding met de database\n",
    "conn = pyodbc.connect(connection_string)\n",
    "cursor = conn.cursor()\n",
    "\n",
    "# Haal alle tabellen op\n",
    "cursor.execute(\"SELECT TABLE_NAME FROM INFORMATION_SCHEMA.TABLES WHERE TABLE_TYPE = 'BASE TABLE'\")\n",
    "tables = [row.TABLE_NAME for row in cursor.fetchall()]\n",
    "\n",
    "\n",
    "# Sluit de verbinding\n",
    "conn.close()\n",
    "\n",
    "\n",
    "\n"
   ]
  },
  {
   "cell_type": "code",
   "execution_count": null,
   "metadata": {},
   "outputs": [],
   "source": [
    "def clean_nan_values(dw):\n",
    "    for table_name, df in dw.items():\n",
    "        # Zet alle NaN naar None zodat SQL Server NULL kan verwerken\n",
    "        dw[table_name] = df.astype(object).where(pd.notnull(df), None)\n",
    "    return dw\n",
    "\n",
    "# Pas toe op je dataWarehouse dictionary\n",
    "DataWarehouse_dict = clean_nan_values(DataWarehouse_dict)\n",
    "\n",
    "\n",
    "def upload_dataframes_to_sql(dw):\n",
    "    try:\n",
    "        with pyodbc.connect(connection_string3, autocommit=False) as conn:\n",
    "            cursor = conn.cursor()\n",
    "            cursor.fast_executemany = True  # Maakt batch-inserts sneller\n",
    "            \n",
    "            print(\"⏳ Uitschakelen van FOREIGN KEY constraints...\")\n",
    "            cursor.execute(\"EXEC sp_MSforeachtable 'ALTER TABLE ? NOCHECK CONSTRAINT ALL'\")\n",
    "            conn.commit()\n",
    "            \n",
    "            # Loop over elke tabel\n",
    "            for table_name, df in dw.items():\n",
    "                print(f\"\\nBezig met uploaden van tabel: {table_name}...\")\n",
    "                \n",
    "                columns = ', '.join([f'[{col}]' for col in df.columns])\n",
    "                placeholders = ', '.join(['?'] * len(df.columns))\n",
    "                insert_query = f\"INSERT INTO {table_name} ({columns}) VALUES ({placeholders})\"\n",
    "                \n",
    "                # Gebruik batch commit\n",
    "                batch_size = 1000\n",
    "                data_list = [tuple(row) for _, row in df.iterrows()]\n",
    "                \n",
    "                for i in range(0, len(data_list), batch_size):\n",
    "                    try:\n",
    "                        cursor.executemany(insert_query, data_list[i:i+batch_size])\n",
    "                        conn.commit()\n",
    "                        print(f\"  ✅ Batch {i//batch_size + 1} geüpload ({len(data_list[i:i+batch_size])} rijen)\")\n",
    "                    except pyodbc.Error as e:\n",
    "                        conn.rollback()\n",
    "                        print(f\"  ❌ Fout in batch {i//batch_size + 1}: {str(e)}\")\n",
    "                \n",
    "            print(\"\\n⏳ Herinschakelen van FOREIGN KEY constraints...\")\n",
    "            cursor.execute(\"EXEC sp_MSforeachtable 'ALTER TABLE ? CHECK CONSTRAINT ALL'\")\n",
    "            conn.commit()\n",
    "            \n",
    "            print(\"\\n🎉 Upload voltooid voor alle tabellen!\")\n",
    "            cursor.close()\n",
    "            \n",
    "    except pyodbc.Error as e:\n",
    "        print(f\"❌ Databasefout: {e}\")\n",
    "\n",
    "upload_dataframes_to_sql(DataWarehouse_dict)\n",
    "\n",
    "\n"
   ]
  }
 ],
 "metadata": {
  "kernelspec": {
   "display_name": ".venv",
   "language": "python",
   "name": "python3"
  },
  "language_info": {
   "codemirror_mode": {
    "name": "ipython",
    "version": 3
   },
   "file_extension": ".py",
   "mimetype": "text/x-python",
   "name": "python",
   "nbconvert_exporter": "python",
   "pygments_lexer": "ipython3",
   "version": "3.13.2"
  }
 },
 "nbformat": 4,
 "nbformat_minor": 2
}
